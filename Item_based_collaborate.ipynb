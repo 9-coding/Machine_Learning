{
  "nbformat": 4,
  "nbformat_minor": 0,
  "metadata": {
    "colab": {
      "provenance": [],
      "authorship_tag": "ABX9TyMeP5UlwX6tZdmyjGQ46t0G",
      "include_colab_link": true
    },
    "kernelspec": {
      "name": "python3",
      "display_name": "Python 3"
    },
    "language_info": {
      "name": "python"
    }
  },
  "cells": [
    {
      "cell_type": "markdown",
      "metadata": {
        "id": "view-in-github",
        "colab_type": "text"
      },
      "source": [
        "<a href=\"https://colab.research.google.com/github/9-coding/Machine_Learning/blob/main/Item_based_collaborate.ipynb\" target=\"_parent\"><img src=\"https://colab.research.google.com/assets/colab-badge.svg\" alt=\"Open In Colab\"/></a>"
      ]
    },
    {
      "cell_type": "code",
      "execution_count": null,
      "metadata": {
        "colab": {
          "base_uri": "https://localhost:8080/"
        },
        "id": "X9h9y6x6I0wN",
        "outputId": "36a05e11-15bd-437b-f957-929c0abe31a5"
      },
      "outputs": [
        {
          "output_type": "stream",
          "name": "stdout",
          "text": [
            "         user_0  user_1  user_2  user_3\n",
            "movie_0       9       2       5       0\n",
            "movie_1       6      10       9      10\n",
            "movie_2       8       6       0       7\n",
            "movie_3       4       0      10       8\n",
            "movie_4       0       8       7       0\n",
            "\n",
            "----------------------------------\n",
            " \n",
            "indices\n",
            " [[0 2 1]\n",
            " [1 2 3]\n",
            " [2 1 0]\n",
            " [3 1 0]\n",
            " [4 1 3]]\n",
            "\n",
            "distances\n",
            " [[0.00000000e+00 3.43870130e-01 3.62733649e-01]\n",
            " [2.22044605e-16 1.80974852e-01 1.87850752e-01]\n",
            " [0.00000000e+00 1.80974852e-01 3.43870130e-01]\n",
            " [0.00000000e+00 1.87850752e-01 3.88824613e-01]\n",
            " [1.11022302e-16 2.44443085e-01 5.09179644e-01]]\n",
            "\n",
            "\n",
            "The Nearest Movies to  movie_0 [2, 1]\n",
            "The Distance from  movie_0 : [0.3438701299701922, 0.362733648590818]\n",
            "R: 4.434369814612281\n",
            "\n",
            "----------------------------------\n",
            " \n",
            "indices\n",
            " [[0 2 1]\n",
            " [1 2 3]\n",
            " [2 1 0]\n",
            " [3 1 0]\n",
            " [4 1 3]]\n",
            "\n",
            "distances\n",
            " [[0.00000000e+00 3.43870130e-01 3.62733649e-01]\n",
            " [2.22044605e-16 1.80974852e-01 1.87850752e-01]\n",
            " [0.00000000e+00 1.80974852e-01 3.43870130e-01]\n",
            " [0.00000000e+00 1.87850752e-01 3.88824613e-01]\n",
            " [1.11022302e-16 2.44443085e-01 5.09179644e-01]]\n",
            "\n",
            "\n",
            "The Nearest Movies to  movie_4 [3, 1]\n",
            "The Distance from  movie_4 : [0.24444308510867352, 0.5091796444363836]\n",
            "R: 8.787595164318844\n"
          ]
        }
      ],
      "source": [
        "  import pandas as pd\n",
        "  import numpy as np\n",
        "  from sklearn.neighbors import NearestNeighbors\n",
        "\n",
        "\n",
        "  df = pd.DataFrame([[ 9, 2, 5, 0],\n",
        "                    [ 6,10, 9,10],\n",
        "                    [ 8, 6, 0, 7],\n",
        "                    [ 4, 0,10, 8],\n",
        "                    [ 0, 8, 7, 0]],\n",
        "                    columns=['user_0', 'user_1', 'user_2', 'user_3'],\n",
        "                    index=['movie_0', 'movie_1', 'movie_2', 'movie_3','movie_4'])\n",
        "\n",
        "\n",
        "  print(df)\n",
        "\n",
        "\n",
        "  def item_based_collaborative(movie):\n",
        "    print(\"\\n----------------------------------\\n \")\n",
        "    knn = NearestNeighbors(metric='cosine', algorithm='brute')\n",
        "    knn.fit(df.values)\n",
        "    distances, indices = knn.kneighbors(df.values, n_neighbors=3)\n",
        "\n",
        "\n",
        "    print(\"indices\\n\", indices)\n",
        "    print(\"\\ndistances\\n\", distances)\n",
        "\n",
        "    arr = np.ones(15)\n",
        "\n",
        "    print()\n",
        "\n",
        "\n",
        "    # get the index for 'movie'\n",
        "    index_for_movie = df.index.tolist().index(movie)\n",
        "    # find the indices for the similar movies\n",
        "    sim_movies = indices[index_for_movie].tolist()\n",
        "    # distances between 'movie' and the similar movies\n",
        "    movie_distances = distances[index_for_movie].tolist()\n",
        "    # the position of 'movie' in the list sim_movies\n",
        "    id_movie = sim_movies.index(index_for_movie)\n",
        "    # remove 'movie' from the list sim_movies\n",
        "    sim_movies.remove(index_for_movie)\n",
        "    # remove 'movie' from the list movie_distances\n",
        "    movie_distances.pop(id_movie)\n",
        "\n",
        "    sim_movies.sort(reverse=True)\n",
        "    # movie_distances.sort(reverse=True)\n",
        "\n",
        "    print('\\nThe Nearest Movies to ', movie, sim_movies)\n",
        "\n",
        "    print('The Distance from ', movie, ':', movie_distances)\n",
        "\n",
        "    s1 = 1 - movie_distances[1]\n",
        "    s2 = 1 - movie_distances[0]\n",
        "\n",
        "\n",
        "    d1 = df.iloc[(sim_movies[1], sim_movies[0])]\n",
        "    d2 = df.iloc[(sim_movies[0], sim_movies[0])]\n",
        "\n",
        "    print(\"R:\", (s1*d1+s2*d2)/(s1+s2))\n",
        "\n",
        "\n",
        "  item_based_collaborative('movie_0')\n",
        "  item_based_collaborative('movie_4')\n"
      ]
    },
    {
      "cell_type": "code",
      "source": [
        "df = pd.DataFrame([\n",
        "    [0,0,3,4,2,1,2,0,5,1],\n",
        "    [3,0,1,3,0,0,0,0,0,0],\n",
        "    [0,3,0,4,0,2,0,0,0,2],\n",
        "    [5,2,3,2,0,4,3,3,0,0],\n",
        "    [0,5,5,0,0,0,0,0,5,4],\n",
        "    [0,0,0,0,4,0,4,2,3,0],\n",
        "    [4,4,0,0,4,4,3,4,0,4],\n",
        "    [5,0,4,2,3,0,3,3,3,3],\n",
        "    [0,3,0,0,5,5,0,4,0,0],\n",
        "    [2,0,0,0,0,0,0,0,4,0]],\n",
        "    columns=['user_0', 'user_1', 'user_2', 'user_3', 'user_4', 'user_5', 'user_6', 'user_7','user_8','user_9',],\n",
        "    index=['movie_0', 'movie_1', 'movie_2', 'movie_3','movie_4', 'movie_5', 'movie_6', 'movie_7', 'movie_8', 'movie_9'])\n"
      ],
      "metadata": {
        "id": "pquuHIFIPywy"
      },
      "execution_count": null,
      "outputs": []
    }
  ]
}